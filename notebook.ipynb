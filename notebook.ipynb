{
 "cells": [
  {
   "cell_type": "markdown",
   "metadata": {},
   "source": [
    "# PV-IN KCNC2 Kv3.2 A new genetic cause of childhood epilepsy\n"
   ]
  },
  {
   "cell_type": "markdown",
   "metadata": {},
   "source": [
    "### imports and setup"
   ]
  },
  {
   "cell_type": "code",
   "execution_count": 1,
   "metadata": {
    "jupyter": {
     "source_hidden": true
    }
   },
   "outputs": [
    {
     "name": "stderr",
     "output_type": "stream",
     "text": [
      "INFO:hoc_helpers:celsius=34.0 and v_init=-80.0\n"
     ]
    }
   ],
   "source": [
    "%load_ext autoreload\n",
    "%autoreload 2\n",
    "import logging\n",
    "\n",
    "from pathlib import Path\n",
    "from functools import lru_cache\n",
    "from itertools import product\n",
    "from neuron import h\n",
    "from neuron import gui\n",
    "from tqdm import tqdm\n",
    "from typing import Iterable, Union\n",
    "import numpy as np\n",
    "import pandas as pd\n",
    "import matplotlib.pyplot as plt\n",
    "import seaborn as sns\n",
    "\n",
    "from src.cells.pv_nrn import get_pv, get_pv_params, reset_biophys\n",
    "\n",
    "from src.constants import *\n",
    "from src.settings import *\n",
    "from src.data import get_cached_df, get_file_path, set_cache_root, get_cache_root, wide_to_long, concise_df\n",
    "from src.measure import get_max_propagation, get_ap_times, calculate_failures\n",
    "from src.run import get_trace, set_relative_nav11bar, set_nrn_prop\n",
    "from src.utils import get_key, format_nav_loc, perc_decrease, str_to_tuple, nearest_idx, nearest_value, get_last_sec\n",
    "from src.vis import plot_voltage_trace, set_default_style, save_fig, get_pulse_times, get_pulse_xy\n",
    "from src.nrn_helpers import init_nrn\n",
    "\n",
    "logging.basicConfig(level=logging.INFO)\n",
    "\n",
    "set_cache_root(\"D:\\\\.cache\")\n",
    "\n",
    "init_nrn(celsius=34, v_init=-80) # as in BBP optimisation\n",
    "\n",
    "h.check_simulator()\n",
    "\n",
    "set_default_style()"
   ]
  },
  {
   "cell_type": "markdown",
   "metadata": {},
   "source": [
    "## Set up"
   ]
  },
  {
   "cell_type": "code",
   "execution_count": 4,
   "metadata": {},
   "outputs": [
    {
     "data": {
      "text/plain": [
       "pv[0]"
      ]
     },
     "execution_count": 4,
     "metadata": {},
     "output_type": "execute_result"
    }
   ],
   "source": [
    "pv = get_pv()\n",
    "pv"
   ]
  },
  {
   "cell_type": "code",
   "execution_count": null,
   "metadata": {},
   "outputs": [],
   "source": []
  }
 ],
 "metadata": {
  "kernelspec": {
   "display_name": "Python 3",
   "language": "python",
   "name": "python3"
  },
  "language_info": {
   "codemirror_mode": {
    "name": "ipython",
    "version": 3
   },
   "file_extension": ".py",
   "mimetype": "text/x-python",
   "name": "python",
   "nbconvert_exporter": "python",
   "pygments_lexer": "ipython3",
   "version": "3.8.11"
  }
 },
 "nbformat": 4,
 "nbformat_minor": 4
}
